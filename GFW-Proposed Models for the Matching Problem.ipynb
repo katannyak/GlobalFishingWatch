{
 "cells": [
  {
   "cell_type": "markdown",
   "metadata": {},
   "source": [
    "## Proposed models for the matching problem: one or two vessels?"
   ]
  },
  {
   "cell_type": "markdown",
   "metadata": {},
   "source": [
    "**Global Fishing Watch** has obtained tracking data of fishing vessels from 1) Automatic Identification System (AIS) devices and 2) Vessel Monitoring Systems (VMS) that are regulated by national goverment authorities. The overall goal is to use these positional data to predict fishing activites in the world's oceans.\n",
    "\n",
    "*Automatic Identification System (AIS)*: AIS trackers broadcast vessel identificaiton information and location. The speed and direction of the vessel can also be calculated from AIS data at various timepoints. GFW has built models to predict fishing activity of vessels based on AIS tracking data. A major drawback of using AIS data to model fishing activity is that only a small fraction of fishing vessels are equiped with AIS devices. More so, many of these vessels lacking AIS trackers may be engaging in illeagal fishing activities.  \n",
    "\n",
    "*Vessel Monitoring Systems (VMS)*: VMS are established by national government authorties to monitor vessel movements with GPS. Vessels broadcast their positions to satellites and this information is captured by the authorities. VMS data is typically not made available to the public. Through collaborations with national governments like Indonesia, Panama, Peru, and Chile, GFW has been able to obtain VMS data. \n",
    "\n",
    "**The matching problem:** To get a better picture of fishing activity, we could overlap AIS and VMS location data. AIS devices broadcast vessel location every three minutes (Taconet et al., 2019), resulting in accurate position given by longitute/latitute coordinates. In contrast, VMS devices broadcast less frequently. I do not know the rate of VMS  broadcasting but I suspect this it is once every few hours to once per day. This means that VMS positional data could be less accurate depending on the speed of the vessel and when the GPS receiver transmits a signal. This creates several problems. One problem is that the same vessel could have different (non-overlapping) AIS and GPS coordinates. As shown in the diagram below (left), for example, a vessel is moving at 10 knots (~18.5km/hr). If GPS singal is transmitted every hour then the AIS and GPS positional data for the same vessel could be up to 18.5km apart. Another potential problem is that overlapping AIS and GPS could represent two, instead of one, vessel (diagram, right). \n",
    "\n",
    "![potential problems](GPS_schematic_4.png)\n",
    "\n",
    "**Goal:** *Using the AIS and GPS data available, construct a model to predict whether overlapping AIS and GPS tracks are coming from one or two vessels?* \n",
    "\n",
    "Below, I propose three ideas for possible models. AIS data can be obtained from [GFW's website](https://globalfishingwatch.org/data-download/datasets/public-training-data-v1). I do not have access to vessel GPS data and therefore need to make some assumptions when describing the model. I could not find evidence that that AIS and VMS use the same identifer naming/number scheme, so I assume that vessel identifiers are different such that it is not possible to match vessels simply by their ID (this would be too easy!). \n"
   ]
  },
  {
   "cell_type": "code",
   "execution_count": 1,
   "metadata": {},
   "outputs": [],
   "source": [
    "import pandas as pd\n",
    "import numpy as np\n",
    "import io"
   ]
  },
  {
   "cell_type": "markdown",
   "metadata": {},
   "source": [
    "#### What is the data we have to build our models?"
   ]
  },
  {
   "cell_type": "markdown",
   "metadata": {},
   "source": [
    "**AIS data**: The following data is provided with AIS data (downloaded [here](https://globalfishingwatch.org/data-download/datasets/public-training-data-v1))\n",
    " - mmsi: Anonymized vessel identifier\n",
    " - timestamp: Unix timestamp\n",
    " - distance_from_shore: Distance from shore (meters)\n",
    " - distance_from_port: Distance from port (meters)\n",
    " - speed: Vessel speed (knots)\n",
    " - course: Vessel course\n",
    " - lat: Latitude in decimal degrees\n",
    " - lon: Longitude in decimal degrees\n",
    " - is_fishing: Label indicating fishing activity.\n",
    "   - 0 = Not fishing\n",
    "   - greater than 0 = Fishing. Data values between 0 and 1 indicate the average score for the position if scored by multiple people.\n",
    "   - -1 = No data\n",
    " - source: The training data batch. Data was prepared by GFW, Dalhousie, and a crowd sourcing campaign. False positives are marked as false_positives.\n",
    "\n",
    "**GPS data**: From the [GFW website](https://globalfishingwatch.org/our-map/), it is mentioned that VMS tracking data provided by nation partners include information on \"vessel identities, gear type, location, speed, direction and more\" and that GFW is now building similar models with GPS data as was done with AIS data to predict fishing activity. Therefore, I assume that **VMS tracking data has same types of data listed above for AIS tracking data.** I also assume a set of AIS and GPS tracks with known overlapping \n",
    "\n",
    "**Assumptions about the data for model training:**\n",
    "1. GPS data has same types of data (features) listed above for AIS data.\n",
    "2. A data set for vessels with known overlapping and non-overlapping AIS and GPS tracks exists. \n",
    "\n",
    "**Given the discussion above, here is the training data I am using for modeling:**\n",
    "\n",
    "*Label:*\n",
    " - AIS and GPS overlapping, i.e. corresponding to one vessel? 1 Yes, 0 No\n",
    "\n",
    "*Features:*\n",
    " - AIS mmsi (string)\n",
    " - AIS timestamp (date/time)\n",
    " - AIS distance_from_shore (meters)\n",
    " - AIS distance_from_port (meters)\n",
    " - AIS vessel speed (knots)\n",
    " - AIS vessel course\n",
    " - AIS latitude (decimal degrees)\n",
    " - AIS longitude (decimal degrees)\n",
    " - AIS is_fishing? (0, 0<, -1)\n",
    " - AIS source (string)\n",
    " - GPS vessel ID number (string)\n",
    " - GPS timestamp (date/time)\n",
    " - GPS distance_from_shore (meters)\n",
    " - GPS distance_from_port (meters)\n",
    " - GPS vessel speed (knots)\n",
    " - GPS vessel course\n",
    " - GPS latitude (decimal degrees)\n",
    " - GPS longitude (decimal degrees)\n",
    " - GPS is_fishing? (0, 0<, -1)\n",
    " - GPS source (string)\n",
    "\n",
    "Let's get a sense what the AIS and presumably GPS data looks like using purse seines vessels as an example."
   ]
  },
  {
   "cell_type": "code",
   "execution_count": 2,
   "metadata": {
    "scrolled": true
   },
   "outputs": [
    {
     "data": {
      "text/html": [
       "<div>\n",
       "<style scoped>\n",
       "    .dataframe tbody tr th:only-of-type {\n",
       "        vertical-align: middle;\n",
       "    }\n",
       "\n",
       "    .dataframe tbody tr th {\n",
       "        vertical-align: top;\n",
       "    }\n",
       "\n",
       "    .dataframe thead th {\n",
       "        text-align: right;\n",
       "    }\n",
       "</style>\n",
       "<table border=\"1\" class=\"dataframe\">\n",
       "  <thead>\n",
       "    <tr style=\"text-align: right;\">\n",
       "      <th></th>\n",
       "      <th>mmsi</th>\n",
       "      <th>timestamp</th>\n",
       "      <th>distance_from_shore</th>\n",
       "      <th>distance_from_port</th>\n",
       "      <th>speed</th>\n",
       "      <th>course</th>\n",
       "      <th>lat</th>\n",
       "      <th>lon</th>\n",
       "      <th>is_fishing</th>\n",
       "      <th>source</th>\n",
       "      <th>UNIX_timestamp</th>\n",
       "      <th>time_diff</th>\n",
       "    </tr>\n",
       "  </thead>\n",
       "  <tbody>\n",
       "    <tr>\n",
       "      <th>0</th>\n",
       "      <td>9924005022437</td>\n",
       "      <td>2013-09-19 14:34:34</td>\n",
       "      <td>0.0</td>\n",
       "      <td>1414.178833</td>\n",
       "      <td>0.0</td>\n",
       "      <td>298.500000</td>\n",
       "      <td>8.861500</td>\n",
       "      <td>-79.668427</td>\n",
       "      <td>-1.0</td>\n",
       "      <td>false_positives</td>\n",
       "      <td>1379601274</td>\n",
       "      <td>NaT</td>\n",
       "    </tr>\n",
       "    <tr>\n",
       "      <th>1</th>\n",
       "      <td>9924005022437</td>\n",
       "      <td>2013-09-19 14:53:15</td>\n",
       "      <td>0.0</td>\n",
       "      <td>1414.178833</td>\n",
       "      <td>0.0</td>\n",
       "      <td>298.500000</td>\n",
       "      <td>8.861506</td>\n",
       "      <td>-79.668442</td>\n",
       "      <td>-1.0</td>\n",
       "      <td>false_positives</td>\n",
       "      <td>1379602395</td>\n",
       "      <td>00:18:41</td>\n",
       "    </tr>\n",
       "    <tr>\n",
       "      <th>2</th>\n",
       "      <td>9924005022437</td>\n",
       "      <td>2013-09-19 15:20:30</td>\n",
       "      <td>0.0</td>\n",
       "      <td>1414.178833</td>\n",
       "      <td>0.1</td>\n",
       "      <td>128.399994</td>\n",
       "      <td>8.861511</td>\n",
       "      <td>-79.668488</td>\n",
       "      <td>-1.0</td>\n",
       "      <td>false_positives</td>\n",
       "      <td>1379604030</td>\n",
       "      <td>00:27:15</td>\n",
       "    </tr>\n",
       "  </tbody>\n",
       "</table>\n",
       "</div>"
      ],
      "text/plain": [
       "            mmsi           timestamp  distance_from_shore  distance_from_port  \\\n",
       "0  9924005022437 2013-09-19 14:34:34                  0.0         1414.178833   \n",
       "1  9924005022437 2013-09-19 14:53:15                  0.0         1414.178833   \n",
       "2  9924005022437 2013-09-19 15:20:30                  0.0         1414.178833   \n",
       "\n",
       "   speed      course       lat        lon  is_fishing           source  \\\n",
       "0    0.0  298.500000  8.861500 -79.668427        -1.0  false_positives   \n",
       "1    0.0  298.500000  8.861506 -79.668442        -1.0  false_positives   \n",
       "2    0.1  128.399994  8.861511 -79.668488        -1.0  false_positives   \n",
       "\n",
       "   UNIX_timestamp time_diff  \n",
       "0      1379601274       NaT  \n",
       "1      1379602395  00:18:41  \n",
       "2      1379604030  00:27:15  "
      ]
     },
     "execution_count": 2,
     "metadata": {},
     "output_type": "execute_result"
    }
   ],
   "source": [
    "# Load and view the Automatic Identify System (AIS) data for purse serine vessels\n",
    "purse_seines = pd.read_csv('AIS_data/purse_seines.csv')\n",
    "cols = purse_seines.columns.tolist()\n",
    "purse_seines['mmsi'] = purse_seines['mmsi'].astype(int)\n",
    "purse_seines['timestamp'] = purse_seines['timestamp'].astype(int)\n",
    "\n",
    "# Convert UNIX timestamp to date-time and calculate intervals between signal transmissions\n",
    "purse_seines['UNIX_timestamp'] = purse_seines['timestamp']\n",
    "purse_seines['timestamp'] = pd.to_datetime(purse_seines['UNIX_timestamp'],unit='s')\n",
    "purse_seines['time_diff'] = purse_seines['timestamp'] - purse_seines['timestamp'].shift(1) # time difference from last timepoint, only valid for same vessel\n",
    "\n",
    "purse_seines.head(3)"
   ]
  },
  {
   "cell_type": "code",
   "execution_count": 3,
   "metadata": {},
   "outputs": [
    {
     "name": "stdout",
     "output_type": "stream",
     "text": [
      "Number of time points per vessel ranges from 6560 to 204261 .\n",
      "Here are 10 vessels with mmsi ID and the number of AIS time points: \n",
      "\n",
      "mmsi\n",
      "9924005022437      55933\n",
      "10880510825243    117980\n",
      "11170005450471     14360\n",
      "18199244904065     17129\n",
      "26616040923734     29073\n",
      "36212632719018    106659\n",
      "38322969102051    170686\n",
      "38992105566132     10302\n",
      "39005622580143    122160\n",
      "43935946737362     86465\n",
      "dtype: int64\n"
     ]
    }
   ],
   "source": [
    "# How many timepoints does each AIS-tracked purse seines vessel have?\n",
    "ps_timepoint_count = purse_seines.groupby(['mmsi']).size()\n",
    "min_count = ps_timepoint_count.min()\n",
    "max_count = ps_timepoint_count.max()\n",
    "\n",
    "print(\"Number of time points per vessel ranges from\", min_count, \"to\", max_count, \".\")\n",
    "print(\"Here are 10 vessels with mmsi ID and the number of AIS time points:\", \"\\n\")\n",
    "print(ps_timepoint_count[:10])"
   ]
  },
  {
   "cell_type": "markdown",
   "metadata": {},
   "source": [
    "#### Model 1: Logistic regression"
   ]
  },
  {
   "cell_type": "markdown",
   "metadata": {},
   "source": [
    "We could train a logistic regression model to classify a set of AIS and GPS tracks as overlapping or not overlapping with some probability. I would apply the general method of maximum likelihood to estimate the coefficents for each feature. I would also see if colinearity exists between features (and remove one of the corrlating features) and whether regularization of the coefficients improves model performance on validation and test sets. When predicting whether an AIS and GPS track is overlapping using our logistic regression model, we could initially consider a probability > 0.5 as overlapping. But this cutoff can be optimized to reduce false positives or false negatives. I would evaluate the model's performance with metrics such as AUC-ROC and F1-score."
   ]
  },
  {
   "cell_type": "markdown",
   "metadata": {},
   "source": [
    "#### Model 2: Support vector machine (non-linear decision boundary)"
   ]
  },
  {
   "cell_type": "markdown",
   "metadata": {},
   "source": [
    "We could also train a SVM model to classify a set of AIS and GPS tracks as overlapping or not overlapping. I would optimize the classifer to minimize overfitting with the trade-off for more false negatives by including a tuning parameter (a constant) determined by cross-validation. The performance of the SVM model would be based on AUC-ROC curves."
   ]
  },
  {
   "cell_type": "markdown",
   "metadata": {},
   "source": [
    "#### Model 3: Forecasting locations using time series"
   ]
  },
  {
   "cell_type": "markdown",
   "metadata": {},
   "source": [
    "For the two models proposed above, what if there is insuffient information in the features to build an accurate classifier? Or what if a rich training/validation/test set with positive (overlapping, one vessel) and negative (non-overlapping, two vessels) examples of AIS and GPS locations is not available? \n",
    "\n",
    "One way to deal with this is to restructure the GPS data as a time series to forecast (fill in) longtitude/latitude locations. This is shown in the figure below where we use the known GPS locations (green vessels) to predict GPS locations in the \"gaps\" (pink vessels). Then we can apply statisical methods to determine if a certain number (determined by optimization) forecasted and known GPS for a vessel are each highly correlated (overlap) with known AIS time points. If so, we would consider that the AIS and GPS tracking corresponds to the same vessel. \n",
    "\n",
    "![time series](time_series_2.png)\n",
    "\n",
    "\n",
    "How do we restructure the data? Data from the previous GPS time point (*n-1*) serve as input variables (features) and the next time point (*n*) serves as the output variable (label). The window size of the lag is one becuase we only include one previous time point (*n-1*) in the example below. Note the we could increase the window size by including more previous time points.\n",
    "\n",
    "*Labels:*\n",
    " - GPS longitude for time point *n* *\n",
    " - GPS latitude for time point *n* * \n",
    " \n",
    "*only if previous time point(s) has same mmsi ID, i.e. same vessel\n",
    "\n",
    "*Features:*\n",
    " - GPS timestamp for time point *n-1* \n",
    " - GPS distance_from_shore for time point *n-1* \n",
    " - GPS distance_from_port for time point *n-1* \n",
    " - GPS vessel speed for time point *n-1* \n",
    " - GPS vessel course for time point *n-1*\n",
    " - GPS latitude for time point *n-1* \n",
    " - GPS longitude for time point *n-1* \n",
    " - GPS is_fishing for time point *n-1*?\n",
    " - GPS source for time point *n-1* \n",
    " \n",
    " \n",
    " - GPS timestamp for time point *n*\n",
    " - GPS distance_from_shore for time point *n*\n",
    " - GPS distance_from_port for time point *n*\n",
    " - GPS vessel speed for time point *n* \n",
    " - GPS vessel course for time point *n*\n",
    " - GPS is_fishing for time point *n*?\n",
    " - GPS source for time point *n*"
   ]
  },
  {
   "cell_type": "markdown",
   "metadata": {},
   "source": [
    "#### Model 4: Neural networks for time series classification"
   ]
  },
  {
   "cell_type": "markdown",
   "metadata": {},
   "source": [
    "We could also build a model using convolutional neural networks, which can learn spatially or temporally invariant features. To train a convnet model, we will assume that we have a data set with known overlapping (one vessel) and non-overlapping (two vessels) AIS and GPS tracks. Similar to audio data, which is formatted as 1-D time series, we could restructured our data into a time series of combined AIS and GPS tracks in a set time window. The data example below has a widow size (lag) of 2. We could use either transfer learning or train our own convent (depending on how much data we have) to classify for two categories (Yes/No) using a ReLu activation function and tuning various hyperparameters.\n",
    "\n",
    "*Labels:*\n",
    " - AIS and GPS tracks correspond to one vessel? 1 Yes, 0 No\n",
    "\n",
    "*Features:*\n",
    " - AIS mmsi at time point *n*\n",
    " - AIS timestamp at time point *n*\n",
    " - AIS distance_from_shore at time point *n*\n",
    " - AIS distance_from_port at time point *n*\n",
    " - AIS vessel speed at time point *n*\n",
    " - AIS vessel course at time point *n*\n",
    " - AIS latitude at time point *n*\n",
    " - AIS longitude at time point *n*\n",
    " - AIS is_fishing at time point *n*? \n",
    " - AIS source at time point *n*\n",
    " - GPS vessel ID number at time point *n*\n",
    " - GPS timestamp at time point *n*\n",
    " - GPS distance_from_shore at time point *n*\n",
    " - GPS distance_from_port at time point *n*\n",
    " - GPS vessel speed at time point *n*\n",
    " - GPS vessel course at time point *n*\n",
    " - GPS latitude at time point *n*\n",
    " - GPS longitude at time point *n*\n",
    " - GPS is_fishing at time point *n*?\n",
    " - GPS source at time point *n*\n",
    "\n",
    "\n",
    " - all AIS features at time point *n-1*\n",
    " - all AIS features at time point *n-2*\n",
    " - etc.\n",
    " \n",
    " \n",
    " - all GPS features at time point *n-1*\n",
    " - all GPS features at time point *n-2*\n"
   ]
  }
 ],
 "metadata": {
  "kernelspec": {
   "display_name": "Python 3",
   "language": "python",
   "name": "python3"
  },
  "language_info": {
   "codemirror_mode": {
    "name": "ipython",
    "version": 3
   },
   "file_extension": ".py",
   "mimetype": "text/x-python",
   "name": "python",
   "nbconvert_exporter": "python",
   "pygments_lexer": "ipython3",
   "version": "3.7.0"
  }
 },
 "nbformat": 4,
 "nbformat_minor": 2
}
